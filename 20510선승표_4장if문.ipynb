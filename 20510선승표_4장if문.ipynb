{
  "nbformat": 4,
  "nbformat_minor": 0,
  "metadata": {
    "colab": {
      "provenance": [],
      "toc_visible": true
    },
    "kernelspec": {
      "name": "python3",
      "display_name": "Python 3"
    },
    "language_info": {
      "name": "python"
    }
  },
  "cells": [
    {
      "cell_type": "markdown",
      "source": [
        "# if 조건문"
      ],
      "metadata": {
        "id": "DRhBCIkWraQ0"
      }
    },
    {
      "cell_type": "markdown",
      "source": [
        "## page9"
      ],
      "metadata": {
        "id": "6rjG50hPsDA8"
      }
    },
    {
      "cell_type": "code",
      "execution_count": 2,
      "metadata": {
        "colab": {
          "base_uri": "https://localhost:8080/"
        },
        "id": "oZNQH6PIrHqY",
        "outputId": "e221dd9e-e511-4f6f-aff3-da4920ce7c0b"
      },
      "outputs": [
        {
          "output_type": "stream",
          "name": "stdout",
          "text": [
            "Hello World \n"
          ]
        }
      ],
      "source": [
        "if 3<5:\n",
        "  print(\"Hello World \")"
      ]
    },
    {
      "cell_type": "code",
      "source": [
        "if 3>5:\n",
        "  print(\"Hello World                    \")"
      ],
      "metadata": {
        "id": "uciboJdhrNtd"
      },
      "execution_count": 3,
      "outputs": []
    },
    {
      "cell_type": "code",
      "source": [
        "age = int(input(\"몇살입니까?\"))\n",
        "if age<20:\n",
        "  print(\"학생입니다\")"
      ],
      "metadata": {
        "colab": {
          "base_uri": "https://localhost:8080/"
        },
        "id": "l84iyZM4r2Ss",
        "outputId": "679f199a-c313-492a-b605-105e8ebe5812"
      },
      "execution_count": 8,
      "outputs": [
        {
          "output_type": "stream",
          "name": "stdout",
          "text": [
            "몇살입니까?19\n",
            "학생입니다\n"
          ]
        }
      ]
    },
    {
      "cell_type": "code",
      "source": [
        "age =15\n",
        "if age<20:\n",
        "  print(\"학생입니다.\")\n",
        "  print(\"안녕히가세요.\")"
      ],
      "metadata": {
        "colab": {
          "base_uri": "https://localhost:8080/"
        },
        "id": "XvdtzoEpsw40",
        "outputId": "659151f0-f80b-4cba-ae84-22a164801cde"
      },
      "execution_count": 9,
      "outputs": [
        {
          "output_type": "stream",
          "name": "stdout",
          "text": [
            "학생입니다.\n",
            "안녕히가세요.\n"
          ]
        }
      ]
    },
    {
      "cell_type": "code",
      "source": [
        "age =20\n",
        "if age<20:\n",
        "  print(\"학생입니다.\")\n",
        "print(\"안녕히가세요.\")"
      ],
      "metadata": {
        "colab": {
          "base_uri": "https://localhost:8080/"
        },
        "id": "lRFGF-hvtB9s",
        "outputId": "62a5c489-e777-4944-d075-2f70e53cb0de"
      },
      "execution_count": 10,
      "outputs": [
        {
          "output_type": "stream",
          "name": "stdout",
          "text": [
            "안녕히가세요.\n"
          ]
        }
      ]
    },
    {
      "cell_type": "code",
      "source": [
        "print(3==5)\n",
        "print(3!=5)\n",
        "print(3<5)"
      ],
      "metadata": {
        "colab": {
          "base_uri": "https://localhost:8080/"
        },
        "id": "rZ58bS71tUQk",
        "outputId": "734e66de-1bfb-4ba1-8525-f85b2e279ac5"
      },
      "execution_count": 11,
      "outputs": [
        {
          "output_type": "stream",
          "name": "stdout",
          "text": [
            "False\n",
            "True\n",
            "True\n"
          ]
        }
      ]
    },
    {
      "cell_type": "code",
      "source": [
        "x=4\n",
        "print(1<x<5)"
      ],
      "metadata": {
        "colab": {
          "base_uri": "https://localhost:8080/"
        },
        "id": "roZPLkigthO0",
        "outputId": "bbd17321-ac68-4ed4-88e2-ade38dccd71f"
      },
      "execution_count": 12,
      "outputs": [
        {
          "output_type": "stream",
          "name": "stdout",
          "text": [
            "True\n"
          ]
        }
      ]
    },
    {
      "cell_type": "code",
      "source": [
        "print(3=>5)"
      ],
      "metadata": {
        "colab": {
          "base_uri": "https://localhost:8080/",
          "height": 137
        },
        "id": "yUFo13ibtpBs",
        "outputId": "e9974865-8efe-4285-a879-daf756dc446f"
      },
      "execution_count": 13,
      "outputs": [
        {
          "output_type": "error",
          "ename": "SyntaxError",
          "evalue": "ignored",
          "traceback": [
            "\u001b[0;36m  File \u001b[0;32m\"<ipython-input-13-3138f8a6f292>\"\u001b[0;36m, line \u001b[0;32m1\u001b[0m\n\u001b[0;31m    print(3=>5)\u001b[0m\n\u001b[0m          ^\u001b[0m\n\u001b[0;31mSyntaxError\u001b[0m\u001b[0;31m:\u001b[0m expression cannot contain assignment, perhaps you meant \"==\"?\n"
          ]
        }
      ]
    },
    {
      "cell_type": "markdown",
      "source": [
        "## page10"
      ],
      "metadata": {
        "id": "80zLWPVkt2DE"
      }
    },
    {
      "cell_type": "code",
      "source": [
        "country=\"Korea\"\n",
        "if country==\"Korea\":\n",
        "  print(\"한국\")"
      ],
      "metadata": {
        "colab": {
          "base_uri": "https://localhost:8080/"
        },
        "id": "0xHNpbF3t4RU",
        "outputId": "fa4ccafc-94a4-4f84-97b8-e367f8779cf3"
      },
      "execution_count": 14,
      "outputs": [
        {
          "output_type": "stream",
          "name": "stdout",
          "text": [
            "한국\n"
          ]
        }
      ]
    },
    {
      "cell_type": "code",
      "source": [
        "age=int(input(\"몇살입니까?\"))\n",
        "if age<20:\n",
        "  print(\"학생입니다.\")\n",
        "else:\n",
        "  print(\"성인입니다.\")"
      ],
      "metadata": {
        "colab": {
          "base_uri": "https://localhost:8080/"
        },
        "id": "_CVZ0705uKiE",
        "outputId": "c4073381-1bc4-4d1e-b911-4eba7c80f5f0"
      },
      "execution_count": 15,
      "outputs": [
        {
          "output_type": "stream",
          "name": "stdout",
          "text": [
            "몇살입니까?24\n",
            "성인입니다.\n"
          ]
        }
      ]
    },
    {
      "cell_type": "code",
      "source": [
        "password = input(\"압호입력\")\n",
        "if password ==\"암호\":\n",
        "  print(\"압호이다.\")\n",
        "else:\n",
        "  print(\"암호가 아니다\")"
      ],
      "metadata": {
        "colab": {
          "base_uri": "https://localhost:8080/"
        },
        "id": "IhS5_vzquond",
        "outputId": "0e25b3d5-52e7-4940-be08-415d1849f913"
      },
      "execution_count": 17,
      "outputs": [
        {
          "output_type": "stream",
          "name": "stdout",
          "text": [
            "압호입력암호\n",
            "압호이다.\n"
          ]
        }
      ]
    },
    {
      "cell_type": "code",
      "source": [
        "a=int(input(\"숫자입력: \"))\n",
        "if a%2==0:\n",
        "  print(\"짝수\")\n",
        "else :\n",
        "  print(\"홀수\")"
      ],
      "metadata": {
        "colab": {
          "base_uri": "https://localhost:8080/"
        },
        "id": "o-Yiqct-vQcE",
        "outputId": "c91cba1a-bbbe-450e-a420-0142834f728d"
      },
      "execution_count": 21,
      "outputs": [
        {
          "output_type": "stream",
          "name": "stdout",
          "text": [
            "숫자입력: 11\n",
            "홀수\n"
          ]
        }
      ]
    },
    {
      "cell_type": "code",
      "source": [
        "a=int(input(\"정수입력: \"))\n",
        "if a%5==0:\n",
        "  print(\"5의 배수이다\")\n",
        "else :\n",
        "  print(\"5의 배수가 아니다\")"
      ],
      "metadata": {
        "colab": {
          "base_uri": "https://localhost:8080/"
        },
        "id": "ZCamZYnlv55c",
        "outputId": "4ff94987-d94d-4537-c128-03dc7f9c85ca"
      },
      "execution_count": 22,
      "outputs": [
        {
          "output_type": "stream",
          "name": "stdout",
          "text": [
            "정수입력: 7\n",
            "5의 배수가 아니다\n"
          ]
        }
      ]
    },
    {
      "cell_type": "code",
      "source": [
        "a=int(input(\"숫자를 입력하세요: \"))\n",
        "if a>0:\n",
        "  print(\"양수이다\")\n",
        "else :\n",
        "  print(\"홀수이다\")"
      ],
      "metadata": {
        "colab": {
          "base_uri": "https://localhost:8080/"
        },
        "id": "EelG25w2wM6D",
        "outputId": "d664fd16-48df-4c96-88e9-04c728669c5d"
      },
      "execution_count": 25,
      "outputs": [
        {
          "output_type": "stream",
          "name": "stdout",
          "text": [
            "숫자를 입력하세요: 100\n",
            "양수이다\n"
          ]
        }
      ]
    },
    {
      "cell_type": "code",
      "source": [
        "a=int(input(\"첫번째 숫자를 입력하세요:\"))\n",
        "b=int(input(\"두번째 숫자를 입력하세요:\"))\n",
        "if a<b:\n",
        "  print(b-a)\n",
        "else :\n",
        "  print(a-b)"
      ],
      "metadata": {
        "colab": {
          "base_uri": "https://localhost:8080/"
        },
        "id": "NK0himglwuh9",
        "outputId": "cb57dd05-8dae-415b-b774-e9722784778d"
      },
      "execution_count": 26,
      "outputs": [
        {
          "output_type": "stream",
          "name": "stdout",
          "text": [
            "첫번째 숫자를 입력하세요:7\n",
            "두번째 숫자를 입력하세요:9\n",
            "2\n"
          ]
        }
      ]
    },
    {
      "cell_type": "code",
      "source": [
        "a=int(input(\"1(주간근무) 또는 2(야간근무)을 입력해 주세요\"))\n",
        "b=int(input(\"근무 시간을 입력해주세요 : \"))\n",
        "if a==1:\n",
        "  print(\"%d시간 동안 일한 주간 급여는 %d원 입니다.\"%(a,b*9500))\n",
        "else :\n",
        "  print(\"%d시간 동안 일한 주간 급여는 %d원 입니다.\"%(a,(b*9500)*1.5))"
      ],
      "metadata": {
        "colab": {
          "base_uri": "https://localhost:8080/"
        },
        "id": "51RSpgElxF20",
        "outputId": "fa612c18-511e-4c47-94aa-6b672deaa119"
      },
      "execution_count": 32,
      "outputs": [
        {
          "output_type": "stream",
          "name": "stdout",
          "text": [
            "1(주간근무) 또는 2(야간근무)을 입력해 주세요1\n",
            "근무 시간을 입력해주세요 : 40\n",
            "1시간 동안 일한 주간 급여는 380000원 입니다.\n"
          ]
        }
      ]
    },
    {
      "cell_type": "code",
      "source": [
        "name=input(\"이름을 입력하세요: \")\n",
        "time=int(input(\"일주일간 일한 시간을 입력하세요: \"))\n",
        "if time>40:\n",
        "  print(\"초과 시간: %d\"%(time-40))\n",
        "  print(\"%s님의 주급은 %d원 입니다\"%(name,480000+(time-40)*1.5*12000))\n",
        "else :\n",
        "  print(\"%s 님의 주급은 %s원 입니다.\"%(time*12000))"
      ],
      "metadata": {
        "colab": {
          "base_uri": "https://localhost:8080/"
        },
        "id": "5EatzPcV43vk",
        "outputId": "8bb861fa-7693-4c53-98ad-706c86d5d1f5"
      },
      "execution_count": 46,
      "outputs": [
        {
          "output_type": "stream",
          "name": "stdout",
          "text": [
            "이름을 입력하세요: 나름\n",
            "일주일간 일한 시간을 입력하세요: 45\n",
            "초과 시간: 5\n",
            "나름님의 주급은 570000원 입니다\n"
          ]
        }
      ]
    },
    {
      "cell_type": "code",
      "source": [
        "print((3==3)and(4!=3))\n",
        "print((3==3)or(4!=4))\n",
        "print(not(4!=3))"
      ],
      "metadata": {
        "colab": {
          "base_uri": "https://localhost:8080/"
        },
        "id": "__0EACoB1Ptk",
        "outputId": "50e7bef6-5896-499d-e2b2-7121b7777239"
      },
      "execution_count": 33,
      "outputs": [
        {
          "output_type": "stream",
          "name": "stdout",
          "text": [
            "True\n",
            "True\n",
            "False\n"
          ]
        }
      ]
    },
    {
      "cell_type": "markdown",
      "source": [
        "## page 11"
      ],
      "metadata": {
        "id": "h4PG5kea1muM"
      }
    },
    {
      "cell_type": "code",
      "source": [
        "a=int(input(\"a입력:\"))\n",
        "b=int(input(\"b입력:\"))\n",
        "if a==3 and b==4:\n",
        "  print(\"OK\")\n",
        "if a==3 or b==4:\n",
        "  print(\"Okay\")"
      ],
      "metadata": {
        "colab": {
          "base_uri": "https://localhost:8080/"
        },
        "id": "p5Ig5BvM1pQU",
        "outputId": "ded3c6c6-77fa-40bd-bf06-b9ccbe659535"
      },
      "execution_count": 34,
      "outputs": [
        {
          "output_type": "stream",
          "name": "stdout",
          "text": [
            "a입력:3\n",
            "b입력:4\n",
            "OK\n",
            "Okay\n"
          ]
        }
      ]
    },
    {
      "cell_type": "code",
      "source": [
        "x=int(input(\"숫자입력:\"))\n",
        "if x>10 and x%2==0:\n",
        "  print(\"10 초과 짝수\")\n"
      ],
      "metadata": {
        "colab": {
          "base_uri": "https://localhost:8080/"
        },
        "id": "pJVKuBnk2D_M",
        "outputId": "4043b53b-e675-469a-cc65-c649758a7193"
      },
      "execution_count": 35,
      "outputs": [
        {
          "output_type": "stream",
          "name": "stdout",
          "text": [
            "숫자입력:12\n",
            "1= 초과 짝수\n"
          ]
        }
      ]
    },
    {
      "cell_type": "code",
      "source": [
        "point=int(input(\"필기 성적을 입력하세요: \"))\n",
        "point2=int(input(\"실기 성적을 입력하세요: \"))\n",
        "if point>=80 and point2>=80:\n",
        "  print(\"합격\")\n",
        "else :\n",
        "  print(\"불합격\")"
      ],
      "metadata": {
        "colab": {
          "base_uri": "https://localhost:8080/"
        },
        "id": "fkiPKLiN21ck",
        "outputId": "de4e662d-da0d-464a-a957-ac47efa4896e"
      },
      "execution_count": 39,
      "outputs": [
        {
          "output_type": "stream",
          "name": "stdout",
          "text": [
            "필기 성적을 입력하세요: 90\n",
            "실기 성적을 입력하세요: 50\n",
            "불합격\n"
          ]
        }
      ]
    },
    {
      "cell_type": "code",
      "source": [
        "age = int(input(\"몇살이세요?:\"))\n",
        "if age>0 and age<7 or age>=65:\n",
        "  print(\"입장료는 무료입니다.\")\n",
        "else :\n",
        "  print(\"3000원 입니다\")"
      ],
      "metadata": {
        "colab": {
          "base_uri": "https://localhost:8080/"
        },
        "id": "5sPR5qwI3u3F",
        "outputId": "d12d4df4-9e99-4f16-8303-b6fa3109e2d9"
      },
      "execution_count": 43,
      "outputs": [
        {
          "output_type": "stream",
          "name": "stdout",
          "text": [
            "몇살이세요?:64\n",
            "3000원 입니다\n"
          ]
        }
      ]
    },
    {
      "cell_type": "code",
      "source": [
        "age = int(input(\"나이: \"))\n",
        "height = int(input(\"키 : \"))\n",
        "if age>=10 and height>=150:\n",
        "  print(\"놀이기구를 탈 수 있다\")\n",
        "else :\n",
        "  print(\"놀이기구를 탈 수 없다\")"
      ],
      "metadata": {
        "colab": {
          "base_uri": "https://localhost:8080/"
        },
        "id": "EVFbQ25d4i58",
        "outputId": "89a2e50e-f5c0-4d39-b722-ea03899fe83a"
      },
      "execution_count": 48,
      "outputs": [
        {
          "output_type": "stream",
          "name": "stdout",
          "text": [
            "나이: 15\n",
            "키 : 160\n",
            "놀이기구를 탈 수 있다\n"
          ]
        }
      ]
    },
    {
      "cell_type": "code",
      "source": [
        "id=input(\"아이디를 입력하세요: \")\n",
        "level=int(input(\"회원 레벨을 입려하세요: \"))\n",
        "if id=='admin'and level==1:\n",
        "  print(\"관리자 입니다\")\n",
        "else :\n",
        "  print(\"관리자가 아닙니다\")"
      ],
      "metadata": {
        "colab": {
          "base_uri": "https://localhost:8080/",
          "height": 398
        },
        "id": "J4aftAzk605N",
        "outputId": "80921b80-8fab-4798-8dff-0ff86424c77c"
      },
      "execution_count": 51,
      "outputs": [
        {
          "output_type": "error",
          "ename": "KeyboardInterrupt",
          "evalue": "ignored",
          "traceback": [
            "\u001b[0;31m---------------------------------------------------------------------------\u001b[0m",
            "\u001b[0;31mKeyboardInterrupt\u001b[0m                         Traceback (most recent call last)",
            "\u001b[0;32m<ipython-input-51-ca89fe988a49>\u001b[0m in \u001b[0;36m<module>\u001b[0;34m\u001b[0m\n\u001b[0;32m----> 1\u001b[0;31m \u001b[0mid\u001b[0m\u001b[0;34m=\u001b[0m\u001b[0minput\u001b[0m\u001b[0;34m(\u001b[0m\u001b[0;34m\"아이디를 입력하세요: \"\u001b[0m\u001b[0;34m)\u001b[0m\u001b[0;34m\u001b[0m\u001b[0;34m\u001b[0m\u001b[0m\n\u001b[0m\u001b[1;32m      2\u001b[0m \u001b[0mlevel\u001b[0m\u001b[0;34m=\u001b[0m\u001b[0mint\u001b[0m\u001b[0;34m(\u001b[0m\u001b[0minput\u001b[0m\u001b[0;34m(\u001b[0m\u001b[0;34m\"회원 레벨을 입려하세요: \"\u001b[0m\u001b[0;34m)\u001b[0m\u001b[0;34m)\u001b[0m\u001b[0;34m\u001b[0m\u001b[0;34m\u001b[0m\u001b[0m\n\u001b[1;32m      3\u001b[0m \u001b[0;32mif\u001b[0m \u001b[0mid\u001b[0m\u001b[0;34m==\u001b[0m\u001b[0;34m'admin'\u001b[0m\u001b[0;32mand\u001b[0m \u001b[0mlevel\u001b[0m\u001b[0;34m==\u001b[0m\u001b[0;36m1\u001b[0m\u001b[0;34m:\u001b[0m\u001b[0;34m\u001b[0m\u001b[0;34m\u001b[0m\u001b[0m\n\u001b[1;32m      4\u001b[0m   \u001b[0mprint\u001b[0m\u001b[0;34m(\u001b[0m\u001b[0;34m\"관리자 입니다\"\u001b[0m\u001b[0;34m)\u001b[0m\u001b[0;34m\u001b[0m\u001b[0;34m\u001b[0m\u001b[0m\n\u001b[1;32m      5\u001b[0m \u001b[0;32melse\u001b[0m \u001b[0;34m:\u001b[0m\u001b[0;34m\u001b[0m\u001b[0;34m\u001b[0m\u001b[0m\n",
            "\u001b[0;32m/usr/local/lib/python3.9/dist-packages/ipykernel/kernelbase.py\u001b[0m in \u001b[0;36mraw_input\u001b[0;34m(self, prompt)\u001b[0m\n\u001b[1;32m    858\u001b[0m                 \u001b[0;34m\"raw_input was called, but this frontend does not support input requests.\"\u001b[0m\u001b[0;34m\u001b[0m\u001b[0;34m\u001b[0m\u001b[0m\n\u001b[1;32m    859\u001b[0m             )\n\u001b[0;32m--> 860\u001b[0;31m         return self._input_request(str(prompt),\n\u001b[0m\u001b[1;32m    861\u001b[0m             \u001b[0mself\u001b[0m\u001b[0;34m.\u001b[0m\u001b[0m_parent_ident\u001b[0m\u001b[0;34m,\u001b[0m\u001b[0;34m\u001b[0m\u001b[0;34m\u001b[0m\u001b[0m\n\u001b[1;32m    862\u001b[0m             \u001b[0mself\u001b[0m\u001b[0;34m.\u001b[0m\u001b[0m_parent_header\u001b[0m\u001b[0;34m,\u001b[0m\u001b[0;34m\u001b[0m\u001b[0;34m\u001b[0m\u001b[0m\n",
            "\u001b[0;32m/usr/local/lib/python3.9/dist-packages/ipykernel/kernelbase.py\u001b[0m in \u001b[0;36m_input_request\u001b[0;34m(self, prompt, ident, parent, password)\u001b[0m\n\u001b[1;32m    902\u001b[0m             \u001b[0;32mexcept\u001b[0m \u001b[0mKeyboardInterrupt\u001b[0m\u001b[0;34m:\u001b[0m\u001b[0;34m\u001b[0m\u001b[0;34m\u001b[0m\u001b[0m\n\u001b[1;32m    903\u001b[0m                 \u001b[0;31m# re-raise KeyboardInterrupt, to truncate traceback\u001b[0m\u001b[0;34m\u001b[0m\u001b[0;34m\u001b[0m\u001b[0m\n\u001b[0;32m--> 904\u001b[0;31m                 \u001b[0;32mraise\u001b[0m \u001b[0mKeyboardInterrupt\u001b[0m\u001b[0;34m(\u001b[0m\u001b[0;34m\"Interrupted by user\"\u001b[0m\u001b[0;34m)\u001b[0m \u001b[0;32mfrom\u001b[0m \u001b[0;32mNone\u001b[0m\u001b[0;34m\u001b[0m\u001b[0;34m\u001b[0m\u001b[0m\n\u001b[0m\u001b[1;32m    905\u001b[0m             \u001b[0;32mexcept\u001b[0m \u001b[0mException\u001b[0m \u001b[0;32mas\u001b[0m \u001b[0me\u001b[0m\u001b[0;34m:\u001b[0m\u001b[0;34m\u001b[0m\u001b[0;34m\u001b[0m\u001b[0m\n\u001b[1;32m    906\u001b[0m                 \u001b[0mself\u001b[0m\u001b[0;34m.\u001b[0m\u001b[0mlog\u001b[0m\u001b[0;34m.\u001b[0m\u001b[0mwarning\u001b[0m\u001b[0;34m(\u001b[0m\u001b[0;34m\"Invalid Message:\"\u001b[0m\u001b[0;34m,\u001b[0m \u001b[0mexc_info\u001b[0m\u001b[0;34m=\u001b[0m\u001b[0;32mTrue\u001b[0m\u001b[0;34m)\u001b[0m\u001b[0;34m\u001b[0m\u001b[0;34m\u001b[0m\u001b[0m\n",
            "\u001b[0;31mKeyboardInterrupt\u001b[0m: Interrupted by user"
          ]
        }
      ]
    },
    {
      "cell_type": "code",
      "source": [
        "a=int(input(\"정수를 입력하세요: \"))\n",
        "if a>=1 and a<=100:\n",
        "  print(\"%d은(는) 1~100사이에 있다\")\n",
        "else :\n",
        "  print(\"%d은(는) 1~100사이에 없다\")"
      ],
      "metadata": {
        "colab": {
          "base_uri": "https://localhost:8080/"
        },
        "id": "WnYPA9HH72rl",
        "outputId": "6fe4f856-dc25-41bf-8599-ae27ed0e02f9"
      },
      "execution_count": 54,
      "outputs": [
        {
          "output_type": "stream",
          "name": "stdout",
          "text": [
            "정수를 입력하세요: 11\n",
            "%d은(는) 1~100사이에 있다\n"
          ]
        }
      ]
    },
    {
      "cell_type": "code",
      "source": [
        "month=3\n",
        "if 3<=month<=5:\n",
        "  print(\"현재는 봄입니다.\")\n",
        "elif 6<=month<=8:\n",
        "  print(\"현재는 여름입니다.\")\n",
        "elif 6<=month<=8:\n",
        "  print(\"현재는 가을입니다.\")\n",
        "else :\n",
        "  print(\"현재는 겨울입니다.\")"
      ],
      "metadata": {
        "colab": {
          "base_uri": "https://localhost:8080/"
        },
        "id": "nUmg9w9R8RZs",
        "outputId": "4199103f-f14c-472c-8549-0adc965c5aed"
      },
      "execution_count": 55,
      "outputs": [
        {
          "output_type": "stream",
          "name": "stdout",
          "text": [
            "현재는 봄입니다.\n"
          ]
        }
      ]
    },
    {
      "cell_type": "markdown",
      "source": [
        "## page12"
      ],
      "metadata": {
        "id": "ncjTILai-mBc"
      }
    },
    {
      "cell_type": "code",
      "source": [
        "price=int(input(\"구매금액: \"))\n",
        "if price<20000 :\n",
        "  print(\"새벽배송이 불가능합니다.\")\n",
        "elif (price<50000):\n",
        "  print(\"배송비 2500원이 추가됩니다.\")\n",
        "elif price>=50000:\n",
        "  print(\"무료배송입니다.\")5"
      ],
      "metadata": {
        "colab": {
          "base_uri": "https://localhost:8080/"
        },
        "id": "_Y4sWAGF8wxE",
        "outputId": "430690bf-acc8-4556-c105-d770e67d2e3e"
      },
      "execution_count": 58,
      "outputs": [
        {
          "output_type": "stream",
          "name": "stdout",
          "text": [
            "구매금액: 400000\n",
            "무료배송입니다.\n"
          ]
        }
      ]
    },
    {
      "cell_type": "code",
      "source": [
        "score=int(input(\"점수를 입력하세요: \"))\n",
        "if score>=90:\n",
        "  print(\"A등급입니다.\")\n",
        "elif score>=80and score<90:\n",
        "  print(\"B등급입니다.\")\n",
        "elif score>=70 and score<80:\n",
        "  print(\"C등급입니다.\")\n",
        "elif score<70:\n",
        "  print(\"D등급입니다.\")"
      ],
      "metadata": {
        "colab": {
          "base_uri": "https://localhost:8080/"
        },
        "id": "SUtTjziM9pMj",
        "outputId": "517348f3-4e5c-4478-fc71-64835f28ed08"
      },
      "execution_count": 60,
      "outputs": [
        {
          "output_type": "stream",
          "name": "stdout",
          "text": [
            "점수를 입력하세요: 50\n",
            "D등급입니다.\n"
          ]
        }
      ]
    },
    {
      "cell_type": "code",
      "source": [
        "a=int(input(\"첫 번째 수: \"))\n",
        "b=int(input(\"두 번째 수: \"))\n",
        "c=int(input(\"세 번째 수: \"))\n",
        "\n",
        "max=a\n",
        "if(b>max):\n",
        "  max=b\n",
        "if c>max:\n",
        "  max=c\n",
        "print(\"가장 큰 수는 %d입니다.\"%(max))"
      ],
      "metadata": {
        "colab": {
          "base_uri": "https://localhost:8080/"
        },
        "id": "KCqtnq6f-TUz",
        "outputId": "7d92f4bc-1a06-4c15-a7f8-7dbc36f916a2"
      },
      "execution_count": 61,
      "outputs": [
        {
          "output_type": "stream",
          "name": "stdout",
          "text": [
            "첫 번째 수: 22\n",
            "두 번째 수: 47\n",
            "세 번째 수: 13\n",
            "가장 큰 수는 47입니다.\n"
          ]
        }
      ]
    },
    {
      "cell_type": "code",
      "source": [
        "tem=int(input(\"온도를 입력하세요: \"))\n",
        "if 0<=tem<100:\n",
        "  print(\"물의 상태는 액체이다.\")\n",
        "elif tem<0:\n",
        "  print(\"물의 상태는 고체이다.\")\n",
        "else :\n",
        "  print(\"물의 상태는 기체이다.\")"
      ],
      "metadata": {
        "colab": {
          "base_uri": "https://localhost:8080/"
        },
        "id": "eb4QPBlh_iFb",
        "outputId": "dac70f1f-2d52-4ca9-ba99-2f9947b48b47"
      },
      "execution_count": 62,
      "outputs": [
        {
          "output_type": "stream",
          "name": "stdout",
          "text": [
            "온도를 입력하세요: 80\n",
            "물의 상태는 액체이다.\n"
          ]
        }
      ]
    },
    {
      "cell_type": "code",
      "source": [
        "eng=int(input(\"영어시험 점수를 입력하세요 : \"))\n",
        "math=int(input(\"수학시험 점수를 입력하세요 : \"))\n",
        "if eng>=80or math>=80:\n",
        "  print(\"재시험 기회제공\")\n",
        "elif eng<80and math<80:\n",
        "  print(\"탈락\")\n",
        "elif eng>=80and math>=80:\n",
        "  print(\"합격\")"
      ],
      "metadata": {
        "colab": {
          "base_uri": "https://localhost:8080/"
        },
        "id": "JXNyGFiDAFvj",
        "outputId": "51810cc6-e512-4e6d-b3b7-7dea7e01872f"
      },
      "execution_count": 63,
      "outputs": [
        {
          "output_type": "stream",
          "name": "stdout",
          "text": [
            "영어시험 점수를 입력하세요 : 85\n",
            "수학시험 점수를 입력하세요 : 75\n",
            "재시험 기회제공\n"
          ]
        }
      ]
    },
    {
      "cell_type": "code",
      "source": [
        "ser=int(input(\"서비가 어떠셨나요(1또는 2 또는 3)\"))\n",
        "price=int(input(\"음식값을 입력해 주세요(예:8000) : \"))\n",
        "if ser==1:\n",
        "  print(\"팁 : %d원\"%(price*(20/100)))\n",
        "elif ser==2:\n",
        "  print(\"팁 : %d원\"%(price*(10/100)))\n",
        "elif ser==3:\n",
        "  print(\"팁 : %d원\"%(price*(5/100)))"
      ],
      "metadata": {
        "colab": {
          "base_uri": "https://localhost:8080/"
        },
        "id": "4kalsV1hAxuj",
        "outputId": "5661c222-3abc-43a9-e1f0-23d2a3c343d0"
      },
      "execution_count": 65,
      "outputs": [
        {
          "output_type": "stream",
          "name": "stdout",
          "text": [
            "서비가 어떠셨나요(1또는 2 또는 3)1\n",
            "음식값을 입력해 주세요(예:8000) : 8000\n",
            "팁 : 1600원\n"
          ]
        }
      ]
    },
    {
      "cell_type": "code",
      "source": [
        "price=int(input(\"물건 구매가를 입력하세요 : \"))\n",
        "if price>=10000and price<50000:\n",
        "  print(\"구매가 : %d원\"%(price))\n",
        "  print(\"할인율 : 5%\")\n",
        "  print(\"할인 금액 : %d\"%(price*(5/100)))\n",
        "  print(\"지불 금액 : %d\"%(price*(105/100)))\n",
        "elif price>=50000 and price<300000:\n",
        "  print(\"구매가 : %d원\"%(price))\n",
        "  print(\"할인율 : 7.5%\")\n",
        "  print(\"할인 금액 : %d\"%(price*(7.5/100)))\n",
        "  print(\"지불 금액 : %d\"%(price*(107.5/100)))\n",
        "elif price>=300000:\n",
        "  print(\"구매가 : %d원\"%(price))\n",
        "  print(\"할인율 : 10%\")\n",
        "  print(\"할인 금액 : %d\"%(price*(10/100)))\n",
        "  print(\"지불 금액 : %d\"%(price*(110/100)))"
      ],
      "metadata": {
        "id": "E4qHGRVyCCWD"
      },
      "execution_count": null,
      "outputs": []
    },
    {
      "cell_type": "code",
      "source": [
        "print(\"원하는 메뉴를 선택하세요.\")\n",
        "print(\"1.떡볶이 3000원\")\n",
        "print(\"2.김밥 2500원\")\n",
        "print(\"3.튀김 3500원\")\n",
        "a=int(input(\"번호 선택 : \"))\n",
        "if a==1:\n",
        "  print(\"떡볶이를 선택하셨군요!\")\n",
        "  b=int(input(\"몇 인분 주문하시겠습니까?\"))\n",
        "  print(\"총 가격은 %d원 입니다.\"%(3000*b))\n",
        "elif a==2:\n",
        "  print(\"김밥 선택하셨군요!\")\n",
        "  b=int(input(\"몇 인분 주문하시겠습니까?\"))\n",
        "  print(\"총 가격은 %d원 입니다.\"%(2500*b))\n",
        "elif a==3:\n",
        "  print(\"튀김를 선택하셨군요!\")\n",
        "  b=int(input(\"몇 인분 주문하시겠습니까?\"))\n",
        "  print(\"총 가격은 %d원 입니다.\"%(3500*b))"
      ],
      "metadata": {
        "id": "5YRjGjcDDV9k"
      },
      "execution_count": null,
      "outputs": []
    },
    {
      "cell_type": "code",
      "source": [
        "w=int(input(\"체중을 입력하세요: \"))\n",
        "h=int(input(\"키를 입력하세요(m): \"))\n",
        "b=w/h*h\n",
        "if 0<=b<=15:\n",
        "  \n",
        "print(\"당신의 vmi지수는 %ld 이며 %s입니다.\",%())"
      ],
      "metadata": {
        "id": "Ww_3PHrPEjIl"
      },
      "execution_count": null,
      "outputs": []
    }
  ]
}